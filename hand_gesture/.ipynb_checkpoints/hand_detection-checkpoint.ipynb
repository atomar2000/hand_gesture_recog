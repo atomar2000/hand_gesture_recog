{
 "cells": [
  {
   "cell_type": "code",
   "execution_count": 12,
   "metadata": {},
   "outputs": [],
   "source": [
    "import cv2\n",
    "import numpy as np\n",
    "import pandas as pd\n",
    "import imutils\n",
    "bg = None\n",
    "import pickle\n",
    "import cv2\n",
    "import os\n",
    "import tensorflow as tf\n",
    "from tensorflow import keras"
   ]
  },
  {
   "cell_type": "code",
   "execution_count": 13,
   "metadata": {},
   "outputs": [
    {
     "name": "stdout",
     "output_type": "stream",
     "text": [
      "2.4.0\n"
     ]
    }
   ],
   "source": [
    "print(keras.__version__)"
   ]
  },
  {
   "cell_type": "code",
   "execution_count": 14,
   "metadata": {},
   "outputs": [],
   "source": [
    "def run_avg(image , aWeight):\n",
    "    global bg\n",
    "    if bg is None:\n",
    "        bg = image.copy().astype('float')\n",
    "        return \n",
    "    cv2.accumulateWeighted(image, bg , aWeight)"
   ]
  },
  {
   "cell_type": "code",
   "execution_count": 15,
   "metadata": {},
   "outputs": [],
   "source": [
    "def segment(image, threshold = 15):\n",
    "    diff = cv2.absdiff(bg.astype('uint8') , image)\n",
    "    thresholded = cv2.threshold(diff,threshold, 255 , cv2.THRESH_BINARY)[1]\n",
    "    (cnts, _) = cv2.findContours(thresholded.copy() , cv2.RETR_EXTERNAL , cv2.CHAIN_APPROX_SIMPLE)\n",
    "    if len(cnts) == 0:\n",
    "        return\n",
    "    else:\n",
    "        segmented = max(cnts, key = cv2.contourArea)\n",
    "        return (thresholded , segmented)"
   ]
  },
  {
   "cell_type": "code",
   "execution_count": 4,
   "metadata": {},
   "outputs": [],
   "source": [
    "loc = r'D://leapgestrecog//leapGestRecog//leapGestRecog//0'"
   ]
  },
  {
   "cell_type": "code",
   "execution_count": 16,
   "metadata": {},
   "outputs": [],
   "source": [
    "lookup = {'01_palm': 0,\n",
    " '02_l': 1,\n",
    " '03_fist': 2,\n",
    " '04_fist_moved': 3,\n",
    " '05_thumb': 4,\n",
    " '06_index': 5,\n",
    " '07_ok': 6,\n",
    " '08_palm_moved': 7,\n",
    " '09_c': 8,\n",
    " '10_down': 9}"
   ]
  },
  {
   "cell_type": "code",
   "execution_count": 17,
   "metadata": {},
   "outputs": [
    {
     "data": {
      "text/plain": [
       "{'01_palm': 0,\n",
       " '02_l': 1,\n",
       " '03_fist': 2,\n",
       " '04_fist_moved': 3,\n",
       " '05_thumb': 4,\n",
       " '06_index': 5,\n",
       " '07_ok': 6,\n",
       " '08_palm_moved': 7,\n",
       " '09_c': 8,\n",
       " '10_down': 9}"
      ]
     },
     "execution_count": 17,
     "metadata": {},
     "output_type": "execute_result"
    }
   ],
   "source": [
    "lookup"
   ]
  },
  {
   "cell_type": "code",
   "execution_count": 5,
   "metadata": {},
   "outputs": [
    {
     "data": {
      "text/plain": [
       "{'01_palm': 0,\n",
       " '02_l': 1,\n",
       " '03_fist': 2,\n",
       " '04_fist_moved': 3,\n",
       " '05_thumb': 4,\n",
       " '06_index': 5,\n",
       " '07_ok': 6,\n",
       " '08_palm_moved': 7,\n",
       " '09_c': 8,\n",
       " '10_down': 9}"
      ]
     },
     "execution_count": 5,
     "metadata": {},
     "output_type": "execute_result"
    }
   ],
   "source": [
    "lookup = dict()\n",
    "reverselookup = dict()\n",
    "count = 0\n",
    "for j in os.listdir(loc + str(0)):\n",
    "    if not j.startswith('.'):                              \n",
    "        lookup[j] = count\n",
    "        reverselookup[count] = j\n",
    "        count = count + 1\n",
    "lookup"
   ]
  },
  {
   "cell_type": "code",
   "execution_count": 19,
   "metadata": {},
   "outputs": [
    {
     "ename": "ModuleNotFoundError",
     "evalue": "No module named 'keras'",
     "output_type": "error",
     "traceback": [
      "\u001b[1;31m---------------------------------------------------------------------------\u001b[0m",
      "\u001b[1;31mModuleNotFoundError\u001b[0m                       Traceback (most recent call last)",
      "\u001b[1;32m<ipython-input-19-fa9962ccf929>\u001b[0m in \u001b[0;36m<module>\u001b[1;34m\u001b[0m\n\u001b[0;32m      5\u001b[0m     \u001b[1;31m#model = pickle.load(open(filename, 'rb'))\u001b[0m\u001b[1;33m\u001b[0m\u001b[1;33m\u001b[0m\u001b[1;33m\u001b[0m\u001b[0m\n\u001b[0;32m      6\u001b[0m     \u001b[1;32mwith\u001b[0m \u001b[0mopen\u001b[0m\u001b[1;33m(\u001b[0m\u001b[0mfilename\u001b[0m\u001b[1;33m,\u001b[0m \u001b[1;34m'rb'\u001b[0m\u001b[1;33m)\u001b[0m \u001b[1;32mas\u001b[0m \u001b[0mfile\u001b[0m\u001b[1;33m:\u001b[0m\u001b[1;33m\u001b[0m\u001b[1;33m\u001b[0m\u001b[0m\n\u001b[1;32m----> 7\u001b[1;33m         \u001b[0mPickled_LR_Model\u001b[0m \u001b[1;33m=\u001b[0m \u001b[0mpickle\u001b[0m\u001b[1;33m.\u001b[0m\u001b[0mload\u001b[0m\u001b[1;33m(\u001b[0m\u001b[0mfile\u001b[0m\u001b[1;33m)\u001b[0m\u001b[1;33m\u001b[0m\u001b[1;33m\u001b[0m\u001b[0m\n\u001b[0m\u001b[0;32m      8\u001b[0m     \u001b[0mtop\u001b[0m\u001b[1;33m,\u001b[0m \u001b[0mright\u001b[0m\u001b[1;33m,\u001b[0m \u001b[0mbottom\u001b[0m\u001b[1;33m,\u001b[0m \u001b[0mleft\u001b[0m \u001b[1;33m=\u001b[0m \u001b[1;36m10\u001b[0m\u001b[1;33m,\u001b[0m \u001b[1;36m350\u001b[0m\u001b[1;33m,\u001b[0m \u001b[1;36m225\u001b[0m\u001b[1;33m,\u001b[0m \u001b[1;36m590\u001b[0m\u001b[1;33m\u001b[0m\u001b[1;33m\u001b[0m\u001b[0m\n\u001b[0;32m      9\u001b[0m     \u001b[0mnum_frames\u001b[0m \u001b[1;33m=\u001b[0m \u001b[1;36m0\u001b[0m\u001b[1;33m\u001b[0m\u001b[1;33m\u001b[0m\u001b[0m\n",
      "\u001b[1;31mModuleNotFoundError\u001b[0m: No module named 'keras'"
     ]
    }
   ],
   "source": [
    "if __name__ == \"__main__\":    \n",
    "    aWeight = 0.5    \n",
    "    camera = cv2.VideoCapture(0)    \n",
    "    filename = '_model_.sav'\n",
    "    #model = pickle.load(open(filename, 'rb'))\n",
    "    with open(filename, 'rb') as file:  \n",
    "        model = pickle.load(file)\n",
    "    top, right, bottom, left = 10, 350, 225, 590    \n",
    "    num_frames = 0  \n",
    "    predict_img = None\n",
    "    result = None\n",
    "    while(True):       \n",
    "        (grabbed, frame) = camera.read()        \n",
    "        frame = cv2.flip(frame, 1)        \n",
    "        \n",
    "        clone = frame.copy()       \n",
    "        (height, width) = frame.shape[:2]        \n",
    "        roi = frame[top:bottom, right:left]        \n",
    "       \n",
    "        gray = cv2.cvtColor(roi, cv2.COLOR_BGR2GRAY)\n",
    "        gray = cv2.GaussianBlur(gray, (7, 7), 0)        \n",
    "        if num_frames < 30:\n",
    "            run_avg(gray, aWeight)\n",
    "        else:           \n",
    "            hand = segment(gray)            \n",
    "            if hand is not None:                \n",
    "                (thresholded, segmented) = hand                \n",
    "                cv2.drawContours(clone, [segmented + (right, top)], -1, (0, 0, 255) , 3)\n",
    "                cv2.imshow(\"Thresholded\", thresholded)\n",
    "                predict_img = thresholded                \n",
    "                predict_img = cv2.resize(predict_img , (120,320))\n",
    "                predict_img = np.array(predict_img, dtype = 'float32')\n",
    "                y_pred = model.predict(predict_img.reshape(1,120,320,1))\n",
    "                result = np.argmax(y_pred)\n",
    "                \n",
    "                result = reverselookup[result]\n",
    "                \n",
    "                 \n",
    "                \n",
    "        font = cv2.FONT_HERSHEY_SIMPLEX        \n",
    "        color = (255, 255, 255)\n",
    "        i = 0\n",
    "        cv2.putText(clone,  \n",
    "            result,  \n",
    "            (350, 250),  \n",
    "            font, 1,  \n",
    "            color,  \n",
    "            2,  \n",
    "            cv2.LINE_AA)\n",
    "            \n",
    "            \n",
    "        cv2.rectangle(clone, (left, top), (right, bottom), (0,255,0), 2)        \n",
    "        num_frames += 1   \n",
    "         \n",
    "        \n",
    "        #print(result)\n",
    "        cv2.imshow(\"Video Feed\", clone)        \n",
    "        keypress = cv2.waitKey(1) & 0xFF        \n",
    "        if keypress == ord(\"q\"):\n",
    "            break\n",
    "camera.release()\n",
    "cv2.destroyAllWindows()"
   ]
  },
  {
   "cell_type": "code",
   "execution_count": null,
   "metadata": {},
   "outputs": [],
   "source": []
  }
 ],
 "metadata": {
  "kernelspec": {
   "display_name": "Python 3",
   "language": "python",
   "name": "python3"
  },
  "language_info": {
   "codemirror_mode": {
    "name": "ipython",
    "version": 3
   },
   "file_extension": ".py",
   "mimetype": "text/x-python",
   "name": "python",
   "nbconvert_exporter": "python",
   "pygments_lexer": "ipython3",
   "version": "3.8.3"
  }
 },
 "nbformat": 4,
 "nbformat_minor": 2
}
